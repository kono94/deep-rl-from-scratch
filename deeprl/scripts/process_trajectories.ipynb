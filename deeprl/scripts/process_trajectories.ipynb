{
 "cells": [
  {
   "cell_type": "code",
   "execution_count": 15,
   "metadata": {},
   "outputs": [],
   "source": [
    "import pandas as pd\n",
    "import movingpandas as mpd\n",
    "import glob\n",
    "import os, json, sys\n",
    "import re\n",
    "from copy import deepcopy\n",
    "import numpy as np\n",
    "import matplotlib.pyplot as plt\n",
    "import plotly.express as px\n",
    "import numpy as np\n",
    "from datetime import datetime\n",
    "import folium\n",
    "import pickle\n",
    "from folium import plugins\n",
    "from folium.features import DivIcon\n",
    "import geopandas\n",
    "from datetime import datetime, timedelta\n",
    "from tqdm import tqdm\n",
    "from shapely.geometry import Polygon\n",
    "import datetime as dt"
   ]
  },
  {
   "cell_type": "code",
   "execution_count": 16,
   "metadata": {},
   "outputs": [
    {
     "name": "stdout",
     "output_type": "stream",
     "text": [
      "['../../data/processed/aishub_linear_10S_2021_07.csv', '../../data/processed/aishub_linear_10S_2020_07.csv', '../../data/processed/aishub_linear_10S_2021_04.csv', '../../data/processed/aishub_linear_10S_2020_04.csv', '../../data/processed/aishub_linear_10S_2021_10.csv', '../../data/processed/aishub_linear_10S_2020_01.csv', '../../data/processed/aishub_linear_10S_2020_10.csv', '../../data/processed/aishub_linear_10S_2021_01.csv']\n"
     ]
    },
    {
     "name": "stderr",
     "output_type": "stream",
     "text": [
      "100%|██████████| 8/8 [00:11<00:00,  1.38s/it]\n"
     ]
    }
   ],
   "source": [
    "prefix = '../../data/processed'\n",
    "json_pattern = os.path.join(prefix,'aishub_linear_10S*.csv')\n",
    "file_list = glob.glob(json_pattern)\n",
    "print(file_list)\n",
    "\n",
    "dfs = [] # an empty list to store the data frames\n",
    "for file in tqdm(file_list):\n",
    "    dfs.append(pd.read_csv(file, parse_dates=['timestamp'])) # append the data frame to the list\n",
    "temp = pd.concat(dfs, ignore_index=True) # concatenate all the data frames in the list."
   ]
  },
  {
   "cell_type": "code",
   "execution_count": 17,
   "metadata": {},
   "outputs": [
    {
     "data": {
      "text/plain": [
       "1.0     7108569\n",
       "3.0     1203534\n",
       "18.0     466063\n",
       "2.0         155\n",
       "Name: type, dtype: int64"
      ]
     },
     "execution_count": 17,
     "metadata": {},
     "output_type": "execute_result"
    }
   ],
   "source": [
    "temp[\"type\"].value_counts()"
   ]
  },
  {
   "cell_type": "code",
   "execution_count": 18,
   "metadata": {},
   "outputs": [],
   "source": [
    "temp[\"mmsi\"] = temp[\"mmsi\"].astype(int)"
   ]
  },
  {
   "cell_type": "code",
   "execution_count": 19,
   "metadata": {},
   "outputs": [],
   "source": [
    "mmsis = temp[\"mmsi\"].value_counts()"
   ]
  },
  {
   "cell_type": "code",
   "execution_count": 20,
   "metadata": {},
   "outputs": [],
   "source": [
    "intMMSIS = mmsis.index.astype(int)"
   ]
  },
  {
   "cell_type": "code",
   "execution_count": 22,
   "metadata": {},
   "outputs": [
    {
     "name": "stderr",
     "output_type": "stream",
     "text": [
      "  4%|▍         | 97/2541 [01:58<3:40:57,  5.42s/it]"
     ]
    }
   ],
   "source": [
    "import requests\n",
    "import time\n",
    "from bs4 import BeautifulSoup#fetch link\n",
    "mmssiStaticInfo = {}\n",
    "default = {\"shipType\" : None, \"length\" : None, \"width\": None}\n",
    "noInfo = 0\n",
    "noLength  = 0\n",
    "exs = 0\n",
    "for id in tqdm(intMMSIS): \n",
    "    page = requests.get(f'https://www.myshiptracking.com/vessels?name={id}&destination=&sf=0&st=60&sort_dir=DESC&sort=RECEIVED&fbuild=1880&tbuild=2022')\n",
    "    #Get HTML content\n",
    "    soup = BeautifulSoup(page.text, 'html.parser')\n",
    "    myspans = soup.find_all(\"div\", {\"class\": \"icon-cont\"})\n",
    "    if len(myspans) == 0:\n",
    "        mmssiStaticInfo[id] = deepcopy(default)\n",
    "        noInfo += 1\n",
    "    else:\n",
    "        vesselType = myspans[0].text\n",
    "        mmssiStaticInfo[id] = deepcopy(default)\n",
    "        mmssiStaticInfo[id][\"shipType\"] = vesselType\n",
    "        try:\n",
    "            ahref = soup.find(class_=\"pl-2\", href=True)\n",
    "            page = requests.get(f'https://www.myshiptracking.com{ahref[\"href\"]}')\n",
    "            #Get HTML content\n",
    "            soup = BeautifulSoup(page.text, 'html.parser')\n",
    "            table = soup.find('table', attrs={'class':'table-sm'})\n",
    "            table_body = table.find('tbody')\n",
    "\n",
    "            rows = table_body.find_all('tr')\n",
    "            found = False\n",
    "            for row in rows:\n",
    "                cols = row.find('th')\n",
    "                if cols.text == \"Size\":\n",
    "                    found = True\n",
    "                    size_raw = row.find('td')\n",
    "                    matches = re.findall('[0-9]+', size_raw.text)\n",
    "                    mmssiStaticInfo[id][\"length\"] = matches[0]\n",
    "                    mmssiStaticInfo[id][\"width\"] = matches[1]\n",
    "                    break\n",
    "            if not found:\n",
    "                noLength += 1\n",
    "        \n",
    "        except Exception as e:\n",
    "            exs += 1\n",
    "    time.sleep(0.2)\n",
    "print(f'Total: {len(intMMSIS)}, noInfo: {noInfo}, noLength: {noLength}, exs: {exs}')\n",
    "\n",
    "with open('mmssiStaticInfo.pkl', 'wb') as f:\n",
    "    pickle.dump(mmssiStaticInfo, f)\n",
    "    \n",
    "mmssiStaticInfo\n"
   ]
  },
  {
   "cell_type": "code",
   "execution_count": 234,
   "metadata": {},
   "outputs": [
    {
     "name": "stderr",
     "output_type": "stream",
     "text": [
      "100%|██████████| 31/31 [11:06<00:00, 21.50s/it]\n",
      "100%|██████████| 31/31 [17:42<00:00, 34.27s/it]\n",
      "100%|██████████| 31/31 [24:37<00:00, 47.66s/it]  \n",
      "100%|██████████| 31/31 [27:04<00:00, 52.40s/it] \n"
     ]
    }
   ],
   "source": [
    "from bisect import bisect\n",
    "\n",
    "tides = pd.read_csv(\"../../data/tide_data/combined_tides.csv\", parse_dates=[\"timestamp\"])\n",
    "tides.sort_values(by=[\"timestamp\"], inplace=True)\n",
    "temp[\"tide_level\"] = -1.0\n",
    "temp[\"tide\"] = -1.0\n",
    "temp[\"tide_timestamp\"] = None\n",
    "i = 0\n",
    "for year in [2020]:\n",
    "   for month in [1, 4, 7, 10]:\n",
    "      for day in tqdm(range(1,32)):\n",
    "         for hour in range(0,24):\n",
    "            subset_indexes = temp[(temp[\"timestamp\"].dt.year == year) & (temp[\"timestamp\"].dt.month == month) & (temp[\"timestamp\"].dt.day == day) & (temp[\"timestamp\"].dt.hour == hour)].index\n",
    "            tide_subset = tides[(tides['timestamp'].dt.year ==year) & (tides[\"timestamp\"].dt.month == month) & (tides[\"timestamp\"].dt.day == day) & (tides[\"timestamp\"].dt.hour == hour)]\n",
    "            for idx in subset_indexes:\n",
    "               if len(tide_subset[\"timestamp\"]) > 0:\n",
    "                  i_index = min(tide_subset[\"timestamp\"], key=lambda d: abs(d - temp.at[idx,\"timestamp\"]))\n",
    "               else:\n",
    "                  i_index = min(tides[(tides['timestamp'].dt.year ==year) & (tides[\"timestamp\"].dt.month == month) & (tides[\"timestamp\"].dt.day == day)][\"timestamp\"], key=lambda d: abs(d - temp.at[idx,\"timestamp\"]))\n",
    "                 \n",
    "               tide_row = tides[tides['timestamp'] == i_index]\n",
    "               temp.at[idx, \"tide_level\"] = float(tide_row[\"level\"].values[0])\n",
    "               temp.at[idx, \"tide\"] = float(tide_row[\"tide\"].values[0])\n",
    "               temp.at[idx, \"tide_timestamp\"] = tide_row[\"timestamp\"].values[0]\n",
    "        \n",
    "      "
   ]
  },
  {
   "cell_type": "code",
   "execution_count": 235,
   "metadata": {},
   "outputs": [],
   "source": [
    "temp.to_csv(\"../../data/usable/tide_info.csv\", index=False)"
   ]
  },
  {
   "cell_type": "code",
   "execution_count": 7,
   "metadata": {},
   "outputs": [],
   "source": [
    "temp =  pd.read_csv('../../data/usable/tide_info.csv')"
   ]
  },
  {
   "cell_type": "code",
   "execution_count": 8,
   "metadata": {},
   "outputs": [],
   "source": [
    "with open('mmssiStaticInfo.pkl', 'rb') as f:\n",
    "    mmssiStaticInfo = pickle.load(f)"
   ]
  },
  {
   "cell_type": "code",
   "execution_count": 9,
   "metadata": {},
   "outputs": [],
   "source": [
    "k = dict([(mmsi, item[\"shipType\"]) for mmsi, item in mmssiStaticInfo.items()])\n",
    "temp[\"shipType\"]= temp['mmsi'].map(k)"
   ]
  },
  {
   "cell_type": "code",
   "execution_count": 10,
   "metadata": {},
   "outputs": [
    {
     "data": {
      "text/plain": [
       "array([nan, 'Pilot Ship', 'Pilot Vessel', 'Passenger'], dtype=object)"
      ]
     },
     "execution_count": 10,
     "metadata": {},
     "output_type": "execute_result"
    }
   ],
   "source": [
    "temp[\"shipType\"].unique()"
   ]
  },
  {
   "cell_type": "code",
   "execution_count": null,
   "metadata": {},
   "outputs": [],
   "source": [
    "bigShips_no_pass = temp[temp[\"shipType\"].isin(['Bulk Carrier', 'Bunkering Tanker',\n",
    "       'Cargo', 'Cargo A', 'Cargo B', 'Cargo C',\n",
    "       'Cargo D', 'Cement Carrier', 'Chemical Tanker', 'Container Ship',\n",
    "       'Edible Oil Tanker', 'General Cargo',\n",
    "       'Heavy Lift Vessel', 'Heavy Load Carrier','Lpg Tanker', \n",
    "       'Oil Products Tanker', 'Oil/Chemical Tanker','Ro-Ro Cargo',\n",
    "        'Suction Dredger', 'Tanker',\n",
    "       'Tanker A', 'Tanker B', 'Trailing Suction Hopper Dredger','Vehicles Carrier', 'Waste Disposal Vessel'])]\n",
    "print(bigShips_no_pass.groupby('mmsi').count().shape[0])\n",
    "print(bigShips_no_pass.groupby('traj_id').count().shape[0])"
   ]
  },
  {
   "cell_type": "code",
   "execution_count": null,
   "metadata": {},
   "outputs": [],
   "source": [
    "bigShips_no_pass.to_csv(\"../../data/usable/aishub_linear_artificial_big_ships_no_passenger.csv\", index=False)"
   ]
  },
  {
   "cell_type": "code",
   "execution_count": null,
   "metadata": {},
   "outputs": [],
   "source": [
    "from statistics import mean\n",
    "\n",
    "temp[temp[\"tide_level\"] > 0]"
   ]
  },
  {
   "cell_type": "code",
   "execution_count": 52,
   "metadata": {},
   "outputs": [],
   "source": [
    "shipTypesArray = [item[\"shipType\"] for mmsi, item in mmssiStaticInfo.items()]"
   ]
  },
  {
   "cell_type": "code",
   "execution_count": 55,
   "metadata": {},
   "outputs": [
    {
     "data": {
      "text/plain": [
       "array(['Passenger', 'Pilot Ship', 'Pilot Vessel'], dtype='<U12')"
      ]
     },
     "execution_count": 55,
     "metadata": {},
     "output_type": "execute_result"
    }
   ],
   "source": [
    "unique, counts = np.unique(shipTypesArray, return_counts=True)\n",
    "unique"
   ]
  },
  {
   "cell_type": "code",
   "execution_count": null,
   "metadata": {},
   "outputs": [],
   "source": [
    "import seaborn as sns\n",
    "import plotting_config\n",
    "x_axis = np.arange(0, 20, 0.001)\n",
    "sns.set_style(\"whitegrid\")\n",
    "k = shipTypesArray\n",
    "SMALL_SIZE = 22\n",
    "MEDIUM_SIZE = 22\n",
    "BIGGER_SIZE = 22\n",
    "\n",
    "plt.rc('font', size=SMALL_SIZE)          # controls default text sizes\n",
    "plt.rc('axes', titlesize=SMALL_SIZE)     # fontsize of the axes title\n",
    "plt.rc('axes', labelsize=MEDIUM_SIZE)    # fontsize of the x and y labels\n",
    "plt.rc('xtick', labelsize=SMALL_SIZE)    # fontsize of the tick labels\n",
    "plt.rc('ytick', labelsize=SMALL_SIZE)    # fontsize of the tick labels\n",
    "plt.rc('legend', fontsize=SMALL_SIZE)    # legend fontsize\n",
    "plt.rc('figure', titlesize=BIGGER_SIZE)  # fontsize of the figure title\n",
    "unique, counts = np.unique(k, return_counts=True)\n",
    "inds = counts.argsort()[-15:]\n",
    "sortedUnique = unique[inds]\n",
    "sortedCounts = counts[inds]\n",
    "plt.figure(figsize=(10,6))\n",
    "plt.barh(sortedUnique, sortedCounts)\n",
    "plt.ylabel(\"Ship Type\")\n",
    "plt.xlabel(\"Unique Ships Encountered\")\n",
    "plt.savefig(\"shipTypes.svg\", format=\"svg\")\n",
    "print(sortedUnique)"
   ]
  },
  {
   "cell_type": "code",
   "execution_count": 26,
   "metadata": {},
   "outputs": [],
   "source": [
    "temp.to_csv(\"../../data/usable/aishub_linear_artificial_whole.csv\", index=False)"
   ]
  },
  {
   "cell_type": "code",
   "execution_count": 8,
   "metadata": {},
   "outputs": [],
   "source": [
    "bigShips = temp[temp[\"shipType\"].isin(['Bulk Carrier', 'Bunkering Tanker',\n",
    "       'Cargo', 'Cargo A', 'Cargo B', 'Cargo C',\n",
    "       'Cargo D', 'Cement Carrier', 'Chemical Tanker', 'Container Ship',\n",
    "       'Edible Oil Tanker', 'General Cargo',\n",
    "       'Heavy Lift Vessel', 'Heavy Load Carrier','Lpg Tanker', \n",
    "       'Oil Products Tanker', 'Oil/Chemical Tanker', 'Passenger', 'Passengers Ship', 'Ro-Ro Cargo',\n",
    "       'Ro-Ro/Passenger Ship', 'Suction Dredger', 'Tanker',\n",
    "       'Tanker A', 'Tanker B', 'Trailing Suction Hopper Dredger','Vehicles Carrier', 'Waste Disposal Vessel'])]"
   ]
  },
  {
   "cell_type": "code",
   "execution_count": 10,
   "metadata": {},
   "outputs": [
    {
     "data": {
      "text/plain": [
       "211749530.0    12056\n",
       "211618000.0     6633\n",
       "211164000.0     5482\n",
       "211639000.0     4785\n",
       "218799000.0     2464\n",
       "246287000.0      898\n",
       "211608000.0      220\n",
       "211392000.0      178\n",
       "211438440.0      124\n",
       "211793660.0       60\n",
       "Name: mmsi, dtype: int64"
      ]
     },
     "execution_count": 10,
     "metadata": {},
     "output_type": "execute_result"
    }
   ],
   "source": [
    "a = temp[temp[\"shipType\"] == 'Fishing']\n",
    "a['mmsi'].value_counts()"
   ]
  },
  {
   "cell_type": "code",
   "execution_count": 9,
   "metadata": {},
   "outputs": [
    {
     "name": "stdout",
     "output_type": "stream",
     "text": [
      "1074\n",
      "11381\n"
     ]
    }
   ],
   "source": [
    "print(bigShips.groupby('mmsi').count().shape[0])\n",
    "print(bigShips.groupby('traj_id').count().shape[0])"
   ]
  },
  {
   "cell_type": "code",
   "execution_count": 34,
   "metadata": {},
   "outputs": [],
   "source": [
    "bigShips.to_csv(\"../../data/usable/aishub_linear_artificial_big_ships.csv\", index=False)"
   ]
  },
  {
   "cell_type": "code",
   "execution_count": 12,
   "metadata": {},
   "outputs": [],
   "source": [
    "bigShips_no_pass = temp[temp[\"shipType\"].isin(['Bulk Carrier', 'Bunkering Tanker',\n",
    "       'Cargo', 'Cargo A', 'Cargo B', 'Cargo C',\n",
    "       'Cargo D', 'Cement Carrier', 'Chemical Tanker', 'Container Ship',\n",
    "       'Edible Oil Tanker', 'General Cargo',\n",
    "       'Heavy Lift Vessel', 'Heavy Load Carrier','Lpg Tanker', \n",
    "       'Oil Products Tanker', 'Oil/Chemical Tanker','Ro-Ro Cargo',\n",
    "        'Suction Dredger', 'Tanker',\n",
    "       'Tanker A', 'Tanker B', 'Trailing Suction Hopper Dredger','Vehicles Carrier', 'Waste Disposal Vessel'])]"
   ]
  },
  {
   "cell_type": "code",
   "execution_count": 13,
   "metadata": {},
   "outputs": [
    {
     "name": "stdout",
     "output_type": "stream",
     "text": [
      "1045\n",
      "5618\n"
     ]
    }
   ],
   "source": [
    "print(bigShips_no_pass.groupby('mmsi').count().shape[0])\n",
    "print(bigShips_no_pass.groupby('traj_id').count().shape[0])"
   ]
  },
  {
   "cell_type": "code",
   "execution_count": null,
   "metadata": {},
   "outputs": [],
   "source": [
    "bigShips_no_pass.to_csv(\"../../data/usable/aishub_linear_artificial_big_ships_no_passenger.csv\", index=False)"
   ]
  },
  {
   "cell_type": "code",
   "execution_count": 35,
   "metadata": {},
   "outputs": [],
   "source": [
    "cargo = temp[temp[\"shipType\"].isin(['Bulk Carrier', 'Cargo', 'Cargo A', 'Cargo B', 'Cargo C',\n",
    "       'Cargo D', 'Cement Carrier','Container Ship','General Cargo', 'Heavy Load Carrier',\n",
    "       'Ro-Ro Cargo', 'Vehicles Carrier', 'Waste Disposal Vessel'])]"
   ]
  },
  {
   "cell_type": "code",
   "execution_count": 36,
   "metadata": {},
   "outputs": [
    {
     "name": "stdout",
     "output_type": "stream",
     "text": [
      "970\n",
      "4065\n"
     ]
    }
   ],
   "source": [
    "print(cargo.groupby('mmsi').count().shape[0])\n",
    "print(cargo.groupby('traj_id').count().shape[0])"
   ]
  },
  {
   "cell_type": "code",
   "execution_count": 37,
   "metadata": {},
   "outputs": [],
   "source": [
    "cargo.to_csv(\"../../data/usable/aishub_linear_artificial_cargo.csv\", index=False)"
   ]
  },
  {
   "cell_type": "code",
   "execution_count": 55,
   "metadata": {},
   "outputs": [
    {
     "name": "stdout",
     "output_type": "stream",
     "text": [
      "53.49\n",
      "53.716475\n",
      "8.372\n",
      "8.586853333333334\n"
     ]
    }
   ],
   "source": [
    "print(cargo[\"lat\"].min())\n",
    "print(cargo[\"lat\"].max())\n",
    "print(cargo[\"lon\"].min())\n",
    "print(cargo[\"lon\"].max())"
   ]
  },
  {
   "cell_type": "code",
   "execution_count": 8,
   "metadata": {},
   "outputs": [],
   "source": [
    "tanker = temp[temp[\"shipType\"].isin(['Bunkering Tanker','Chemical Tanker', \n",
    "       'Edible Oil Tanker','Lpg Tanker', \n",
    "       'Oil Products Tanker', 'Oil/Chemical Tanker', 'Tanker',\n",
    "       'Tanker A', 'Tanker B'])]"
   ]
  },
  {
   "cell_type": "code",
   "execution_count": 9,
   "metadata": {},
   "outputs": [
    {
     "name": "stdout",
     "output_type": "stream",
     "text": [
      "71\n",
      "1194\n"
     ]
    }
   ],
   "source": [
    "print(tanker.groupby('mmsi').count().shape[0])\n",
    "print(tanker.groupby('traj_id').count().shape[0])"
   ]
  },
  {
   "cell_type": "code",
   "execution_count": 40,
   "metadata": {},
   "outputs": [],
   "source": [
    "tanker.to_csv(\"../../data/usable/aishub_linear_artificial_tanker.csv\", index=False)"
   ]
  },
  {
   "cell_type": "code",
   "execution_count": 14,
   "metadata": {},
   "outputs": [
    {
     "name": "stderr",
     "output_type": "stream",
     "text": [
      " 10%|▉         | 1821/18854 [00:35<05:33, 51.12it/s]\n"
     ]
    },
    {
     "ename": "KeyboardInterrupt",
     "evalue": "",
     "output_type": "error",
     "traceback": [
      "\u001b[0;31m---------------------------------------------------------------------------\u001b[0m",
      "\u001b[0;31mKeyboardInterrupt\u001b[0m                         Traceback (most recent call last)",
      "Input \u001b[0;32mIn [14]\u001b[0m, in \u001b[0;36m<module>\u001b[0;34m\u001b[0m\n\u001b[1;32m      6\u001b[0m dfs \u001b[38;5;241m=\u001b[39m [] \u001b[38;5;66;03m# an empty list to store the data frames\u001b[39;00m\n\u001b[1;32m      7\u001b[0m \u001b[38;5;28;01mfor\u001b[39;00m file \u001b[38;5;129;01min\u001b[39;00m tqdm(file_list):\n\u001b[0;32m----> 8\u001b[0m     data \u001b[38;5;241m=\u001b[39m \u001b[43mpd\u001b[49m\u001b[38;5;241;43m.\u001b[39;49m\u001b[43mread_json\u001b[49m\u001b[43m(\u001b[49m\u001b[43mfile\u001b[49m\u001b[43m,\u001b[49m\u001b[43m \u001b[49m\u001b[43mlines\u001b[49m\u001b[38;5;241;43m=\u001b[39;49m\u001b[38;5;28;43;01mTrue\u001b[39;49;00m\u001b[43m)\u001b[49m \u001b[38;5;66;03m# read data frame from json file\u001b[39;00m\n\u001b[1;32m      9\u001b[0m     data[\u001b[38;5;124m'\u001b[39m\u001b[38;5;124mabsolute-time\u001b[39m\u001b[38;5;124m'\u001b[39m] \u001b[38;5;241m=\u001b[39m pd\u001b[38;5;241m.\u001b[39mjson_normalize(data[\u001b[38;5;124m'\u001b[39m\u001b[38;5;124mmeta-data\u001b[39m\u001b[38;5;124m'\u001b[39m])[\u001b[38;5;124m'\u001b[39m\u001b[38;5;124mabsolute-time\u001b[39m\u001b[38;5;124m'\u001b[39m]\n\u001b[1;32m     10\u001b[0m     dfs\u001b[38;5;241m.\u001b[39mappend(data) \u001b[38;5;66;03m# append the data frame to the list\u001b[39;00m\n",
      "File \u001b[0;32m~/deep-rl-from-scratch/env/lib/python3.9/site-packages/pandas/util/_decorators.py:207\u001b[0m, in \u001b[0;36mdeprecate_kwarg.<locals>._deprecate_kwarg.<locals>.wrapper\u001b[0;34m(*args, **kwargs)\u001b[0m\n\u001b[1;32m    205\u001b[0m     \u001b[38;5;28;01melse\u001b[39;00m:\n\u001b[1;32m    206\u001b[0m         kwargs[new_arg_name] \u001b[38;5;241m=\u001b[39m new_arg_value\n\u001b[0;32m--> 207\u001b[0m \u001b[38;5;28;01mreturn\u001b[39;00m \u001b[43mfunc\u001b[49m\u001b[43m(\u001b[49m\u001b[38;5;241;43m*\u001b[39;49m\u001b[43margs\u001b[49m\u001b[43m,\u001b[49m\u001b[43m \u001b[49m\u001b[38;5;241;43m*\u001b[39;49m\u001b[38;5;241;43m*\u001b[39;49m\u001b[43mkwargs\u001b[49m\u001b[43m)\u001b[49m\n",
      "File \u001b[0;32m~/deep-rl-from-scratch/env/lib/python3.9/site-packages/pandas/util/_decorators.py:311\u001b[0m, in \u001b[0;36mdeprecate_nonkeyword_arguments.<locals>.decorate.<locals>.wrapper\u001b[0;34m(*args, **kwargs)\u001b[0m\n\u001b[1;32m    305\u001b[0m \u001b[38;5;28;01mif\u001b[39;00m \u001b[38;5;28mlen\u001b[39m(args) \u001b[38;5;241m>\u001b[39m num_allow_args:\n\u001b[1;32m    306\u001b[0m     warnings\u001b[38;5;241m.\u001b[39mwarn(\n\u001b[1;32m    307\u001b[0m         msg\u001b[38;5;241m.\u001b[39mformat(arguments\u001b[38;5;241m=\u001b[39marguments),\n\u001b[1;32m    308\u001b[0m         \u001b[38;5;167;01mFutureWarning\u001b[39;00m,\n\u001b[1;32m    309\u001b[0m         stacklevel\u001b[38;5;241m=\u001b[39mstacklevel,\n\u001b[1;32m    310\u001b[0m     )\n\u001b[0;32m--> 311\u001b[0m \u001b[38;5;28;01mreturn\u001b[39;00m \u001b[43mfunc\u001b[49m\u001b[43m(\u001b[49m\u001b[38;5;241;43m*\u001b[39;49m\u001b[43margs\u001b[49m\u001b[43m,\u001b[49m\u001b[43m \u001b[49m\u001b[38;5;241;43m*\u001b[39;49m\u001b[38;5;241;43m*\u001b[39;49m\u001b[43mkwargs\u001b[49m\u001b[43m)\u001b[49m\n",
      "File \u001b[0;32m~/deep-rl-from-scratch/env/lib/python3.9/site-packages/pandas/io/json/_json.py:614\u001b[0m, in \u001b[0;36mread_json\u001b[0;34m(path_or_buf, orient, typ, dtype, convert_axes, convert_dates, keep_default_dates, numpy, precise_float, date_unit, encoding, encoding_errors, lines, chunksize, compression, nrows, storage_options)\u001b[0m\n\u001b[1;32m    611\u001b[0m     \u001b[38;5;28;01mreturn\u001b[39;00m json_reader\n\u001b[1;32m    613\u001b[0m \u001b[38;5;28;01mwith\u001b[39;00m json_reader:\n\u001b[0;32m--> 614\u001b[0m     \u001b[38;5;28;01mreturn\u001b[39;00m \u001b[43mjson_reader\u001b[49m\u001b[38;5;241;43m.\u001b[39;49m\u001b[43mread\u001b[49m\u001b[43m(\u001b[49m\u001b[43m)\u001b[49m\n",
      "File \u001b[0;32m~/deep-rl-from-scratch/env/lib/python3.9/site-packages/pandas/io/json/_json.py:746\u001b[0m, in \u001b[0;36mJsonReader.read\u001b[0;34m(self)\u001b[0m\n\u001b[1;32m    744\u001b[0m         data \u001b[38;5;241m=\u001b[39m ensure_str(\u001b[38;5;28mself\u001b[39m\u001b[38;5;241m.\u001b[39mdata)\n\u001b[1;32m    745\u001b[0m         data_lines \u001b[38;5;241m=\u001b[39m data\u001b[38;5;241m.\u001b[39msplit(\u001b[38;5;124m\"\u001b[39m\u001b[38;5;130;01m\\n\u001b[39;00m\u001b[38;5;124m\"\u001b[39m)\n\u001b[0;32m--> 746\u001b[0m         obj \u001b[38;5;241m=\u001b[39m \u001b[38;5;28;43mself\u001b[39;49m\u001b[38;5;241;43m.\u001b[39;49m\u001b[43m_get_object_parser\u001b[49m\u001b[43m(\u001b[49m\u001b[38;5;28;43mself\u001b[39;49m\u001b[38;5;241;43m.\u001b[39;49m\u001b[43m_combine_lines\u001b[49m\u001b[43m(\u001b[49m\u001b[43mdata_lines\u001b[49m\u001b[43m)\u001b[49m\u001b[43m)\u001b[49m\n\u001b[1;32m    747\u001b[0m \u001b[38;5;28;01melse\u001b[39;00m:\n\u001b[1;32m    748\u001b[0m     obj \u001b[38;5;241m=\u001b[39m \u001b[38;5;28mself\u001b[39m\u001b[38;5;241m.\u001b[39m_get_object_parser(\u001b[38;5;28mself\u001b[39m\u001b[38;5;241m.\u001b[39mdata)\n",
      "File \u001b[0;32m~/deep-rl-from-scratch/env/lib/python3.9/site-packages/pandas/io/json/_json.py:770\u001b[0m, in \u001b[0;36mJsonReader._get_object_parser\u001b[0;34m(self, json)\u001b[0m\n\u001b[1;32m    768\u001b[0m obj \u001b[38;5;241m=\u001b[39m \u001b[38;5;28;01mNone\u001b[39;00m\n\u001b[1;32m    769\u001b[0m \u001b[38;5;28;01mif\u001b[39;00m typ \u001b[38;5;241m==\u001b[39m \u001b[38;5;124m\"\u001b[39m\u001b[38;5;124mframe\u001b[39m\u001b[38;5;124m\"\u001b[39m:\n\u001b[0;32m--> 770\u001b[0m     obj \u001b[38;5;241m=\u001b[39m \u001b[43mFrameParser\u001b[49m\u001b[43m(\u001b[49m\u001b[43mjson\u001b[49m\u001b[43m,\u001b[49m\u001b[43m \u001b[49m\u001b[38;5;241;43m*\u001b[39;49m\u001b[38;5;241;43m*\u001b[39;49m\u001b[43mkwargs\u001b[49m\u001b[43m)\u001b[49m\u001b[38;5;241;43m.\u001b[39;49m\u001b[43mparse\u001b[49m\u001b[43m(\u001b[49m\u001b[43m)\u001b[49m\n\u001b[1;32m    772\u001b[0m \u001b[38;5;28;01mif\u001b[39;00m typ \u001b[38;5;241m==\u001b[39m \u001b[38;5;124m\"\u001b[39m\u001b[38;5;124mseries\u001b[39m\u001b[38;5;124m\"\u001b[39m \u001b[38;5;129;01mor\u001b[39;00m obj \u001b[38;5;129;01mis\u001b[39;00m \u001b[38;5;28;01mNone\u001b[39;00m:\n\u001b[1;32m    773\u001b[0m     \u001b[38;5;28;01mif\u001b[39;00m \u001b[38;5;129;01mnot\u001b[39;00m \u001b[38;5;28misinstance\u001b[39m(dtype, \u001b[38;5;28mbool\u001b[39m):\n",
      "File \u001b[0;32m~/deep-rl-from-scratch/env/lib/python3.9/site-packages/pandas/io/json/_json.py:885\u001b[0m, in \u001b[0;36mParser.parse\u001b[0;34m(self)\u001b[0m\n\u001b[1;32m    882\u001b[0m     \u001b[38;5;28mself\u001b[39m\u001b[38;5;241m.\u001b[39m_parse_numpy()\n\u001b[1;32m    884\u001b[0m \u001b[38;5;28;01melse\u001b[39;00m:\n\u001b[0;32m--> 885\u001b[0m     \u001b[38;5;28;43mself\u001b[39;49m\u001b[38;5;241;43m.\u001b[39;49m\u001b[43m_parse_no_numpy\u001b[49m\u001b[43m(\u001b[49m\u001b[43m)\u001b[49m\n\u001b[1;32m    887\u001b[0m \u001b[38;5;28;01mif\u001b[39;00m \u001b[38;5;28mself\u001b[39m\u001b[38;5;241m.\u001b[39mobj \u001b[38;5;129;01mis\u001b[39;00m \u001b[38;5;28;01mNone\u001b[39;00m:\n\u001b[1;32m    888\u001b[0m     \u001b[38;5;28;01mreturn\u001b[39;00m \u001b[38;5;28;01mNone\u001b[39;00m\n",
      "File \u001b[0;32m~/deep-rl-from-scratch/env/lib/python3.9/site-packages/pandas/io/json/_json.py:1139\u001b[0m, in \u001b[0;36mFrameParser._parse_no_numpy\u001b[0;34m(self)\u001b[0m\n\u001b[1;32m   1136\u001b[0m orient \u001b[38;5;241m=\u001b[39m \u001b[38;5;28mself\u001b[39m\u001b[38;5;241m.\u001b[39morient\n\u001b[1;32m   1138\u001b[0m \u001b[38;5;28;01mif\u001b[39;00m orient \u001b[38;5;241m==\u001b[39m \u001b[38;5;124m\"\u001b[39m\u001b[38;5;124mcolumns\u001b[39m\u001b[38;5;124m\"\u001b[39m:\n\u001b[0;32m-> 1139\u001b[0m     \u001b[38;5;28mself\u001b[39m\u001b[38;5;241m.\u001b[39mobj \u001b[38;5;241m=\u001b[39m \u001b[43mDataFrame\u001b[49m\u001b[43m(\u001b[49m\n\u001b[1;32m   1140\u001b[0m \u001b[43m        \u001b[49m\u001b[43mloads\u001b[49m\u001b[43m(\u001b[49m\u001b[43mjson\u001b[49m\u001b[43m,\u001b[49m\u001b[43m \u001b[49m\u001b[43mprecise_float\u001b[49m\u001b[38;5;241;43m=\u001b[39;49m\u001b[38;5;28;43mself\u001b[39;49m\u001b[38;5;241;43m.\u001b[39;49m\u001b[43mprecise_float\u001b[49m\u001b[43m)\u001b[49m\u001b[43m,\u001b[49m\u001b[43m \u001b[49m\u001b[43mdtype\u001b[49m\u001b[38;5;241;43m=\u001b[39;49m\u001b[38;5;28;43;01mNone\u001b[39;49;00m\n\u001b[1;32m   1141\u001b[0m \u001b[43m    \u001b[49m\u001b[43m)\u001b[49m\n\u001b[1;32m   1142\u001b[0m \u001b[38;5;28;01melif\u001b[39;00m orient \u001b[38;5;241m==\u001b[39m \u001b[38;5;124m\"\u001b[39m\u001b[38;5;124msplit\u001b[39m\u001b[38;5;124m\"\u001b[39m:\n\u001b[1;32m   1143\u001b[0m     decoded \u001b[38;5;241m=\u001b[39m {\n\u001b[1;32m   1144\u001b[0m         \u001b[38;5;28mstr\u001b[39m(k): v\n\u001b[1;32m   1145\u001b[0m         \u001b[38;5;28;01mfor\u001b[39;00m k, v \u001b[38;5;129;01min\u001b[39;00m loads(json, precise_float\u001b[38;5;241m=\u001b[39m\u001b[38;5;28mself\u001b[39m\u001b[38;5;241m.\u001b[39mprecise_float)\u001b[38;5;241m.\u001b[39mitems()\n\u001b[1;32m   1146\u001b[0m     }\n",
      "\u001b[0;31mKeyboardInterrupt\u001b[0m: "
     ]
    }
   ],
   "source": [
    "path_to_json = '../../data/ais-hub/202*'\n",
    "\n",
    "json_pattern = os.path.join(path_to_json,'*.json')\n",
    "file_list = glob.glob(json_pattern)\n",
    "\n",
    "dfs = [] # an empty list to store the data frames\n",
    "for file in tqdm(file_list):\n",
    "    data = pd.read_json(file, lines=True) # read data frame from json file\n",
    "    data['absolute-time'] = pd.json_normalize(data['meta-data'])['absolute-time']\n",
    "    dfs.append(data) # append the data frame to the list\n",
    "\n",
    "temp = pd.concat(dfs, ignore_index=True) # concatenate all the data frames in the list."
   ]
  },
  {
   "cell_type": "markdown",
   "metadata": {},
   "source": [
    "## Preprocessing dataframe"
   ]
  },
  {
   "cell_type": "code",
   "execution_count": 3,
   "metadata": {},
   "outputs": [],
   "source": [
    "df = temp[['longitude', 'latitude', 'absolute-time', 'source-mmsi', 'speed-over-ground',  'course-over-ground', \\\n",
    "          'true-heading', 'type' ]]\n",
    "#'navigational-status'\n",
    "#'position-accuracy',\n",
    "#'rate-of-turn',\n",
    "# remove rows with NaNs (just 'navigational-status' and 'rate-of-turn')\n",
    "df = df.dropna()\n",
    "df = df.rename(columns={'longitude': 'lon', 'latitude': 'lat', 'absolute-time': 'timestamp', 'source-mmsi': 'mmsi',\\\n",
    "    'speed-over-ground': 'sog', 'course-over-ground': 'cog',\\\n",
    "    'true-heading': 'heading'})\n"
   ]
  },
  {
   "cell_type": "code",
   "execution_count": 4,
   "metadata": {},
   "outputs": [
    {
     "data": {
      "text/plain": [
       "562"
      ]
     },
     "execution_count": 4,
     "metadata": {},
     "output_type": "execute_result"
    }
   ],
   "source": [
    "len(df[\"type\"])"
   ]
  },
  {
   "cell_type": "code",
   "execution_count": 5,
   "metadata": {},
   "outputs": [
    {
     "data": {
      "text/plain": [
       "1     378\n",
       "3     154\n",
       "18     30\n",
       "Name: type, dtype: int64"
      ]
     },
     "execution_count": 5,
     "metadata": {},
     "output_type": "execute_result"
    }
   ],
   "source": [
    "df[\"type\"].value_counts()"
   ]
  },
  {
   "cell_type": "code",
   "execution_count": 46,
   "metadata": {},
   "outputs": [],
   "source": [
    "#df[\"nav_status\"].value_counts()"
   ]
  },
  {
   "cell_type": "code",
   "execution_count": 47,
   "metadata": {},
   "outputs": [
    {
     "data": {
      "text/plain": [
       "220486000    32854\n",
       "211595610    30316\n",
       "211599340    29940\n",
       "219285000    29391\n",
       "245586000    29140\n",
       "             ...  \n",
       "970016504        1\n",
       "970220116        1\n",
       "970216811        1\n",
       "605854626        1\n",
       "970016780        1\n",
       "Name: mmsi, Length: 802, dtype: int64"
      ]
     },
     "execution_count": 47,
     "metadata": {},
     "output_type": "execute_result"
    }
   ],
   "source": [
    "df[\"mmsi\"].value_counts()"
   ]
  },
  {
   "cell_type": "code",
   "execution_count": 48,
   "metadata": {},
   "outputs": [
    {
     "name": "stdout",
     "output_type": "stream",
     "text": [
      "Lon min: 8.372\n",
      "Lon max: 8.592153333333334\n",
      "Lat min: 53.49\n",
      "Lat min: 53.71996333333333\n"
     ]
    }
   ],
   "source": [
    "print(f'Lon min: {df[\"lon\"].min()}')\n",
    "print(f'Lon max: {df[\"lon\"].max()}')\n",
    "print(f'Lat min: {df[\"lat\"].min()}')\n",
    "print(f'Lat min: {df[\"lat\"].max()}')"
   ]
  },
  {
   "cell_type": "code",
   "execution_count": 4,
   "metadata": {},
   "outputs": [],
   "source": [
    "# remove \"standing still in habour\" and ship moving too slow\n",
    "df = df[df.sog>3]\n",
    "df = df[(df.lon<180) | (df.lat<90)]\n",
    "\n",
    "## Filter unrealistic sog values (over 100 for example)\n",
    "df = df[df.sog<=30]\n",
    "\n",
    "# convert to GeoDataFrame\n",
    "gdf = geopandas.GeoDataFrame(\n",
    "    df, geometry=geopandas.points_from_xy(x=df.lon, y=df.lat), crs=\"WGS84\"\n",
    ")\n",
    "gdf['time'] = pd.to_datetime(gdf['timestamp'], unit='ms')\n",
    "gdf = gdf.set_index('time')"
   ]
  },
  {
   "cell_type": "code",
   "execution_count": 5,
   "metadata": {},
   "outputs": [
    {
     "data": {
      "text/html": [
       "<div>\n",
       "<style scoped>\n",
       "    .dataframe tbody tr th:only-of-type {\n",
       "        vertical-align: middle;\n",
       "    }\n",
       "\n",
       "    .dataframe tbody tr th {\n",
       "        vertical-align: top;\n",
       "    }\n",
       "\n",
       "    .dataframe thead th {\n",
       "        text-align: right;\n",
       "    }\n",
       "</style>\n",
       "<table border=\"1\" class=\"dataframe\">\n",
       "  <thead>\n",
       "    <tr style=\"text-align: right;\">\n",
       "      <th></th>\n",
       "      <th>lon</th>\n",
       "      <th>lat</th>\n",
       "      <th>timestamp</th>\n",
       "      <th>mmsi</th>\n",
       "      <th>sog</th>\n",
       "      <th>cog</th>\n",
       "      <th>heading</th>\n",
       "      <th>type</th>\n",
       "      <th>geometry</th>\n",
       "    </tr>\n",
       "    <tr>\n",
       "      <th>time</th>\n",
       "      <th></th>\n",
       "      <th></th>\n",
       "      <th></th>\n",
       "      <th></th>\n",
       "      <th></th>\n",
       "      <th></th>\n",
       "      <th></th>\n",
       "      <th></th>\n",
       "      <th></th>\n",
       "    </tr>\n",
       "  </thead>\n",
       "  <tbody>\n",
       "    <tr>\n",
       "      <th>2020-01-06 06:50:27.049</th>\n",
       "      <td>8.574858</td>\n",
       "      <td>53.535763</td>\n",
       "      <td>1578293427049</td>\n",
       "      <td>211225940</td>\n",
       "      <td>7.100000</td>\n",
       "      <td>262.1</td>\n",
       "      <td>268</td>\n",
       "      <td>3</td>\n",
       "      <td>POINT (8.57486 53.53576)</td>\n",
       "    </tr>\n",
       "    <tr>\n",
       "      <th>2020-01-06 06:50:36.362</th>\n",
       "      <td>8.540535</td>\n",
       "      <td>53.567770</td>\n",
       "      <td>1578293436362</td>\n",
       "      <td>218709000</td>\n",
       "      <td>11.400001</td>\n",
       "      <td>334.0</td>\n",
       "      <td>336</td>\n",
       "      <td>1</td>\n",
       "      <td>POINT (8.54054 53.56777)</td>\n",
       "    </tr>\n",
       "    <tr>\n",
       "      <th>2020-01-06 06:50:54.603</th>\n",
       "      <td>8.536817</td>\n",
       "      <td>53.573850</td>\n",
       "      <td>1578293454603</td>\n",
       "      <td>211411980</td>\n",
       "      <td>11.100000</td>\n",
       "      <td>334.2</td>\n",
       "      <td>336</td>\n",
       "      <td>1</td>\n",
       "      <td>POINT (8.53682 53.57385)</td>\n",
       "    </tr>\n",
       "    <tr>\n",
       "      <th>2020-01-06 06:51:04.725</th>\n",
       "      <td>8.554048</td>\n",
       "      <td>53.552922</td>\n",
       "      <td>1578293464725</td>\n",
       "      <td>211221570</td>\n",
       "      <td>7.100000</td>\n",
       "      <td>330.5</td>\n",
       "      <td>332</td>\n",
       "      <td>3</td>\n",
       "      <td>POINT (8.55405 53.55292)</td>\n",
       "    </tr>\n",
       "    <tr>\n",
       "      <th>2020-01-06 06:51:39.758</th>\n",
       "      <td>8.572027</td>\n",
       "      <td>53.537347</td>\n",
       "      <td>1578293499758</td>\n",
       "      <td>211225940</td>\n",
       "      <td>7.600000</td>\n",
       "      <td>328.0</td>\n",
       "      <td>326</td>\n",
       "      <td>3</td>\n",
       "      <td>POINT (8.57203 53.53735)</td>\n",
       "    </tr>\n",
       "    <tr>\n",
       "      <th>...</th>\n",
       "      <td>...</td>\n",
       "      <td>...</td>\n",
       "      <td>...</td>\n",
       "      <td>...</td>\n",
       "      <td>...</td>\n",
       "      <td>...</td>\n",
       "      <td>...</td>\n",
       "      <td>...</td>\n",
       "      <td>...</td>\n",
       "    </tr>\n",
       "    <tr>\n",
       "      <th>2020-01-06 07:18:29.141</th>\n",
       "      <td>8.439600</td>\n",
       "      <td>53.638517</td>\n",
       "      <td>1578295109141</td>\n",
       "      <td>211411980</td>\n",
       "      <td>6.300000</td>\n",
       "      <td>319.9</td>\n",
       "      <td>280</td>\n",
       "      <td>3</td>\n",
       "      <td>POINT (8.43960 53.63852)</td>\n",
       "    </tr>\n",
       "    <tr>\n",
       "      <th>2020-01-06 07:18:45.802</th>\n",
       "      <td>8.505863</td>\n",
       "      <td>53.603110</td>\n",
       "      <td>1578295125802</td>\n",
       "      <td>211221570</td>\n",
       "      <td>8.300000</td>\n",
       "      <td>319.4</td>\n",
       "      <td>319</td>\n",
       "      <td>1</td>\n",
       "      <td>POINT (8.50586 53.60311)</td>\n",
       "    </tr>\n",
       "    <tr>\n",
       "      <th>2020-01-06 07:18:54.478</th>\n",
       "      <td>8.511022</td>\n",
       "      <td>53.599765</td>\n",
       "      <td>1578295134478</td>\n",
       "      <td>211225940</td>\n",
       "      <td>10.200000</td>\n",
       "      <td>326.4</td>\n",
       "      <td>320</td>\n",
       "      <td>3</td>\n",
       "      <td>POINT (8.51102 53.59976)</td>\n",
       "    </tr>\n",
       "    <tr>\n",
       "      <th>2020-01-06 07:19:14.452</th>\n",
       "      <td>8.512965</td>\n",
       "      <td>53.593017</td>\n",
       "      <td>1578295154452</td>\n",
       "      <td>211639000</td>\n",
       "      <td>9.700000</td>\n",
       "      <td>150.0</td>\n",
       "      <td>511</td>\n",
       "      <td>3</td>\n",
       "      <td>POINT (8.51296 53.59302)</td>\n",
       "    </tr>\n",
       "    <tr>\n",
       "      <th>2020-01-06 07:19:45.925</th>\n",
       "      <td>8.503277</td>\n",
       "      <td>53.605000</td>\n",
       "      <td>1578295185925</td>\n",
       "      <td>211221570</td>\n",
       "      <td>8.900001</td>\n",
       "      <td>321.0</td>\n",
       "      <td>321</td>\n",
       "      <td>3</td>\n",
       "      <td>POINT (8.50328 53.60500)</td>\n",
       "    </tr>\n",
       "  </tbody>\n",
       "</table>\n",
       "<p>87 rows × 9 columns</p>\n",
       "</div>"
      ],
      "text/plain": [
       "                              lon        lat      timestamp       mmsi  \\\n",
       "time                                                                     \n",
       "2020-01-06 06:50:27.049  8.574858  53.535763  1578293427049  211225940   \n",
       "2020-01-06 06:50:36.362  8.540535  53.567770  1578293436362  218709000   \n",
       "2020-01-06 06:50:54.603  8.536817  53.573850  1578293454603  211411980   \n",
       "2020-01-06 06:51:04.725  8.554048  53.552922  1578293464725  211221570   \n",
       "2020-01-06 06:51:39.758  8.572027  53.537347  1578293499758  211225940   \n",
       "...                           ...        ...            ...        ...   \n",
       "2020-01-06 07:18:29.141  8.439600  53.638517  1578295109141  211411980   \n",
       "2020-01-06 07:18:45.802  8.505863  53.603110  1578295125802  211221570   \n",
       "2020-01-06 07:18:54.478  8.511022  53.599765  1578295134478  211225940   \n",
       "2020-01-06 07:19:14.452  8.512965  53.593017  1578295154452  211639000   \n",
       "2020-01-06 07:19:45.925  8.503277  53.605000  1578295185925  211221570   \n",
       "\n",
       "                               sog    cog  heading  type  \\\n",
       "time                                                       \n",
       "2020-01-06 06:50:27.049   7.100000  262.1      268     3   \n",
       "2020-01-06 06:50:36.362  11.400001  334.0      336     1   \n",
       "2020-01-06 06:50:54.603  11.100000  334.2      336     1   \n",
       "2020-01-06 06:51:04.725   7.100000  330.5      332     3   \n",
       "2020-01-06 06:51:39.758   7.600000  328.0      326     3   \n",
       "...                            ...    ...      ...   ...   \n",
       "2020-01-06 07:18:29.141   6.300000  319.9      280     3   \n",
       "2020-01-06 07:18:45.802   8.300000  319.4      319     1   \n",
       "2020-01-06 07:18:54.478  10.200000  326.4      320     3   \n",
       "2020-01-06 07:19:14.452   9.700000  150.0      511     3   \n",
       "2020-01-06 07:19:45.925   8.900001  321.0      321     3   \n",
       "\n",
       "                                         geometry  \n",
       "time                                               \n",
       "2020-01-06 06:50:27.049  POINT (8.57486 53.53576)  \n",
       "2020-01-06 06:50:36.362  POINT (8.54054 53.56777)  \n",
       "2020-01-06 06:50:54.603  POINT (8.53682 53.57385)  \n",
       "2020-01-06 06:51:04.725  POINT (8.55405 53.55292)  \n",
       "2020-01-06 06:51:39.758  POINT (8.57203 53.53735)  \n",
       "...                                           ...  \n",
       "2020-01-06 07:18:29.141  POINT (8.43960 53.63852)  \n",
       "2020-01-06 07:18:45.802  POINT (8.50586 53.60311)  \n",
       "2020-01-06 07:18:54.478  POINT (8.51102 53.59976)  \n",
       "2020-01-06 07:19:14.452  POINT (8.51296 53.59302)  \n",
       "2020-01-06 07:19:45.925  POINT (8.50328 53.60500)  \n",
       "\n",
       "[87 rows x 9 columns]"
      ]
     },
     "execution_count": 5,
     "metadata": {},
     "output_type": "execute_result"
    }
   ],
   "source": [
    "gdf"
   ]
  },
  {
   "cell_type": "markdown",
   "metadata": {},
   "source": [
    "## Generate Trajectory Collection with MovingPandas"
   ]
  },
  {
   "cell_type": "code",
   "execution_count": 5,
   "metadata": {},
   "outputs": [],
   "source": [
    "# Specify minimum length for a trajectory (in meters)\n",
    "minimum_length = 1500 \n",
    "collection = mpd.TrajectoryCollection(gdf, 'mmsi', min_length=minimum_length)"
   ]
  },
  {
   "cell_type": "code",
   "execution_count": 6,
   "metadata": {},
   "outputs": [],
   "source": [
    "# (optional) add calculated speed and direction direct from the lat/lon position of the vessel.\n",
    "# This should not be necessary as we will use the pure interpolated real values!\n",
    "\n",
    "collection.add_speed(overwrite=True)\n",
    "collection.add_direction(overwrite=True)"
   ]
  },
  {
   "cell_type": "code",
   "execution_count": 9,
   "metadata": {},
   "outputs": [
    {
     "data": {
      "text/html": [
       "<div>\n",
       "<style scoped>\n",
       "    .dataframe tbody tr th:only-of-type {\n",
       "        vertical-align: middle;\n",
       "    }\n",
       "\n",
       "    .dataframe tbody tr th {\n",
       "        vertical-align: top;\n",
       "    }\n",
       "\n",
       "    .dataframe thead th {\n",
       "        text-align: right;\n",
       "    }\n",
       "</style>\n",
       "<table border=\"1\" class=\"dataframe\">\n",
       "  <thead>\n",
       "    <tr style=\"text-align: right;\">\n",
       "      <th></th>\n",
       "      <th>lon</th>\n",
       "      <th>lat</th>\n",
       "      <th>timestamp</th>\n",
       "      <th>mmsi</th>\n",
       "      <th>sog</th>\n",
       "      <th>cog</th>\n",
       "      <th>heading</th>\n",
       "      <th>type</th>\n",
       "      <th>geometry</th>\n",
       "      <th>speed</th>\n",
       "      <th>direction</th>\n",
       "    </tr>\n",
       "    <tr>\n",
       "      <th>time</th>\n",
       "      <th></th>\n",
       "      <th></th>\n",
       "      <th></th>\n",
       "      <th></th>\n",
       "      <th></th>\n",
       "      <th></th>\n",
       "      <th></th>\n",
       "      <th></th>\n",
       "      <th></th>\n",
       "      <th></th>\n",
       "      <th></th>\n",
       "    </tr>\n",
       "  </thead>\n",
       "  <tbody>\n",
       "    <tr>\n",
       "      <th>2020-01-06 06:50:27.049</th>\n",
       "      <td>8.574858</td>\n",
       "      <td>53.535763</td>\n",
       "      <td>1578293427049</td>\n",
       "      <td>211225940</td>\n",
       "      <td>7.100000</td>\n",
       "      <td>262.10000</td>\n",
       "      <td>268</td>\n",
       "      <td>3</td>\n",
       "      <td>POINT (8.57486 53.53576)</td>\n",
       "      <td>3.541386</td>\n",
       "      <td>-46.812669</td>\n",
       "    </tr>\n",
       "    <tr>\n",
       "      <th>2020-01-06 06:51:39.758</th>\n",
       "      <td>8.572027</td>\n",
       "      <td>53.537347</td>\n",
       "      <td>1578293499758</td>\n",
       "      <td>211225940</td>\n",
       "      <td>7.600000</td>\n",
       "      <td>328.00000</td>\n",
       "      <td>326</td>\n",
       "      <td>3</td>\n",
       "      <td>POINT (8.57203 53.53735)</td>\n",
       "      <td>3.541386</td>\n",
       "      <td>-46.812669</td>\n",
       "    </tr>\n",
       "    <tr>\n",
       "      <th>2020-01-06 06:53:06.262</th>\n",
       "      <td>8.569125</td>\n",
       "      <td>53.540050</td>\n",
       "      <td>1578293586262</td>\n",
       "      <td>211225940</td>\n",
       "      <td>8.200000</td>\n",
       "      <td>327.50000</td>\n",
       "      <td>325</td>\n",
       "      <td>1</td>\n",
       "      <td>POINT (8.56912 53.54005)</td>\n",
       "      <td>4.128324</td>\n",
       "      <td>-32.593602</td>\n",
       "    </tr>\n",
       "    <tr>\n",
       "      <th>2020-01-06 06:54:17.028</th>\n",
       "      <td>8.566517</td>\n",
       "      <td>53.542502</td>\n",
       "      <td>1578293657028</td>\n",
       "      <td>211225940</td>\n",
       "      <td>9.400001</td>\n",
       "      <td>329.50000</td>\n",
       "      <td>326</td>\n",
       "      <td>1</td>\n",
       "      <td>POINT (8.56652 53.54250)</td>\n",
       "      <td>4.564892</td>\n",
       "      <td>-32.362267</td>\n",
       "    </tr>\n",
       "    <tr>\n",
       "      <th>2020-01-06 06:55:26.770</th>\n",
       "      <td>8.563860</td>\n",
       "      <td>53.545170</td>\n",
       "      <td>1578293726770</td>\n",
       "      <td>211225940</td>\n",
       "      <td>9.600000</td>\n",
       "      <td>330.30002</td>\n",
       "      <td>328</td>\n",
       "      <td>1</td>\n",
       "      <td>POINT (8.56386 53.54517)</td>\n",
       "      <td>4.950652</td>\n",
       "      <td>-30.667608</td>\n",
       "    </tr>\n",
       "    <tr>\n",
       "      <th>2020-01-06 06:56:46.360</th>\n",
       "      <td>8.560922</td>\n",
       "      <td>53.548405</td>\n",
       "      <td>1578293806360</td>\n",
       "      <td>211225940</td>\n",
       "      <td>10.100000</td>\n",
       "      <td>332.30002</td>\n",
       "      <td>328</td>\n",
       "      <td>1</td>\n",
       "      <td>POINT (8.56092 53.54841)</td>\n",
       "      <td>5.143233</td>\n",
       "      <td>-28.410523</td>\n",
       "    </tr>\n",
       "    <tr>\n",
       "      <th>2020-01-06 07:01:06.684</th>\n",
       "      <td>8.551428</td>\n",
       "      <td>53.558737</td>\n",
       "      <td>1578294066684</td>\n",
       "      <td>211225940</td>\n",
       "      <td>9.500000</td>\n",
       "      <td>330.80002</td>\n",
       "      <td>329</td>\n",
       "      <td>1</td>\n",
       "      <td>POINT (8.55143 53.55874)</td>\n",
       "      <td>5.035099</td>\n",
       "      <td>-28.682122</td>\n",
       "    </tr>\n",
       "    <tr>\n",
       "      <th>2020-01-06 07:03:51.956</th>\n",
       "      <td>8.544292</td>\n",
       "      <td>53.564915</td>\n",
       "      <td>1578294231956</td>\n",
       "      <td>211225940</td>\n",
       "      <td>9.400001</td>\n",
       "      <td>324.20000</td>\n",
       "      <td>325</td>\n",
       "      <td>3</td>\n",
       "      <td>POINT (8.54429 53.56491)</td>\n",
       "      <td>5.049510</td>\n",
       "      <td>-34.514046</td>\n",
       "    </tr>\n",
       "    <tr>\n",
       "      <th>2020-01-06 07:07:12.226</th>\n",
       "      <td>8.537037</td>\n",
       "      <td>53.572477</td>\n",
       "      <td>1578294432226</td>\n",
       "      <td>211225940</td>\n",
       "      <td>9.100000</td>\n",
       "      <td>329.00000</td>\n",
       "      <td>327</td>\n",
       "      <td>3</td>\n",
       "      <td>POINT (8.53704 53.57248)</td>\n",
       "      <td>4.839354</td>\n",
       "      <td>-29.729005</td>\n",
       "    </tr>\n",
       "    <tr>\n",
       "      <th>2020-01-06 07:08:14.848</th>\n",
       "      <td>8.534710</td>\n",
       "      <td>53.574808</td>\n",
       "      <td>1578294494848</td>\n",
       "      <td>211225940</td>\n",
       "      <td>9.400001</td>\n",
       "      <td>330.00000</td>\n",
       "      <td>328</td>\n",
       "      <td>1</td>\n",
       "      <td>POINT (8.53471 53.57481)</td>\n",
       "      <td>4.819824</td>\n",
       "      <td>-30.706146</td>\n",
       "    </tr>\n",
       "    <tr>\n",
       "      <th>2020-01-06 07:09:26.225</th>\n",
       "      <td>8.532213</td>\n",
       "      <td>53.577512</td>\n",
       "      <td>1578294566225</td>\n",
       "      <td>211225940</td>\n",
       "      <td>9.400001</td>\n",
       "      <td>331.40000</td>\n",
       "      <td>329</td>\n",
       "      <td>1</td>\n",
       "      <td>POINT (8.53221 53.57751)</td>\n",
       "      <td>4.810082</td>\n",
       "      <td>-28.795044</td>\n",
       "    </tr>\n",
       "    <tr>\n",
       "      <th>2020-01-06 07:11:06.055</th>\n",
       "      <td>8.528703</td>\n",
       "      <td>53.581413</td>\n",
       "      <td>1578294666055</td>\n",
       "      <td>211225940</td>\n",
       "      <td>9.600000</td>\n",
       "      <td>330.40000</td>\n",
       "      <td>326</td>\n",
       "      <td>1</td>\n",
       "      <td>POINT (8.52870 53.58141)</td>\n",
       "      <td>4.934007</td>\n",
       "      <td>-28.162169</td>\n",
       "    </tr>\n",
       "    <tr>\n",
       "      <th>2020-01-06 07:12:07.386</th>\n",
       "      <td>8.526567</td>\n",
       "      <td>53.583710</td>\n",
       "      <td>1578294727386</td>\n",
       "      <td>211225940</td>\n",
       "      <td>9.400001</td>\n",
       "      <td>331.80002</td>\n",
       "      <td>327</td>\n",
       "      <td>1</td>\n",
       "      <td>POINT (8.52657 53.58371)</td>\n",
       "      <td>4.763823</td>\n",
       "      <td>-28.968817</td>\n",
       "    </tr>\n",
       "    <tr>\n",
       "      <th>2020-01-06 07:13:25.404</th>\n",
       "      <td>8.523702</td>\n",
       "      <td>53.586760</td>\n",
       "      <td>1578294805404</td>\n",
       "      <td>211225940</td>\n",
       "      <td>9.700000</td>\n",
       "      <td>330.60000</td>\n",
       "      <td>326</td>\n",
       "      <td>1</td>\n",
       "      <td>POINT (8.52370 53.58676)</td>\n",
       "      <td>4.984546</td>\n",
       "      <td>-29.201582</td>\n",
       "    </tr>\n",
       "    <tr>\n",
       "      <th>2020-01-06 07:14:29.034</th>\n",
       "      <td>8.521188</td>\n",
       "      <td>53.589185</td>\n",
       "      <td>1578294869034</td>\n",
       "      <td>211225940</td>\n",
       "      <td>9.600000</td>\n",
       "      <td>326.40000</td>\n",
       "      <td>322</td>\n",
       "      <td>3</td>\n",
       "      <td>POINT (8.52119 53.58919)</td>\n",
       "      <td>4.983317</td>\n",
       "      <td>-31.659913</td>\n",
       "    </tr>\n",
       "    <tr>\n",
       "      <th>2020-01-06 07:15:46.048</th>\n",
       "      <td>8.518100</td>\n",
       "      <td>53.592163</td>\n",
       "      <td>1578294946048</td>\n",
       "      <td>211225940</td>\n",
       "      <td>9.700000</td>\n",
       "      <td>329.50000</td>\n",
       "      <td>326</td>\n",
       "      <td>3</td>\n",
       "      <td>POINT (8.51810 53.59216)</td>\n",
       "      <td>5.057355</td>\n",
       "      <td>-31.670564</td>\n",
       "    </tr>\n",
       "    <tr>\n",
       "      <th>2020-01-06 07:16:46.273</th>\n",
       "      <td>8.515897</td>\n",
       "      <td>53.594550</td>\n",
       "      <td>1578295006273</td>\n",
       "      <td>211225940</td>\n",
       "      <td>9.900001</td>\n",
       "      <td>331.70000</td>\n",
       "      <td>329</td>\n",
       "      <td>1</td>\n",
       "      <td>POINT (8.51590 53.59455)</td>\n",
       "      <td>5.032065</td>\n",
       "      <td>-28.775671</td>\n",
       "    </tr>\n",
       "    <tr>\n",
       "      <th>2020-01-06 07:17:54.503</th>\n",
       "      <td>8.513530</td>\n",
       "      <td>53.597382</td>\n",
       "      <td>1578295074503</td>\n",
       "      <td>211225940</td>\n",
       "      <td>10.100000</td>\n",
       "      <td>334.40000</td>\n",
       "      <td>328</td>\n",
       "      <td>1</td>\n",
       "      <td>POINT (8.51353 53.59738)</td>\n",
       "      <td>5.158467</td>\n",
       "      <td>-26.435421</td>\n",
       "    </tr>\n",
       "    <tr>\n",
       "      <th>2020-01-06 07:18:54.478</th>\n",
       "      <td>8.511022</td>\n",
       "      <td>53.599765</td>\n",
       "      <td>1578295134478</td>\n",
       "      <td>211225940</td>\n",
       "      <td>10.200000</td>\n",
       "      <td>326.40000</td>\n",
       "      <td>320</td>\n",
       "      <td>3</td>\n",
       "      <td>POINT (8.51102 53.59976)</td>\n",
       "      <td>5.218061</td>\n",
       "      <td>-32.047439</td>\n",
       "    </tr>\n",
       "  </tbody>\n",
       "</table>\n",
       "</div>"
      ],
      "text/plain": [
       "                              lon        lat      timestamp       mmsi  \\\n",
       "time                                                                     \n",
       "2020-01-06 06:50:27.049  8.574858  53.535763  1578293427049  211225940   \n",
       "2020-01-06 06:51:39.758  8.572027  53.537347  1578293499758  211225940   \n",
       "2020-01-06 06:53:06.262  8.569125  53.540050  1578293586262  211225940   \n",
       "2020-01-06 06:54:17.028  8.566517  53.542502  1578293657028  211225940   \n",
       "2020-01-06 06:55:26.770  8.563860  53.545170  1578293726770  211225940   \n",
       "2020-01-06 06:56:46.360  8.560922  53.548405  1578293806360  211225940   \n",
       "2020-01-06 07:01:06.684  8.551428  53.558737  1578294066684  211225940   \n",
       "2020-01-06 07:03:51.956  8.544292  53.564915  1578294231956  211225940   \n",
       "2020-01-06 07:07:12.226  8.537037  53.572477  1578294432226  211225940   \n",
       "2020-01-06 07:08:14.848  8.534710  53.574808  1578294494848  211225940   \n",
       "2020-01-06 07:09:26.225  8.532213  53.577512  1578294566225  211225940   \n",
       "2020-01-06 07:11:06.055  8.528703  53.581413  1578294666055  211225940   \n",
       "2020-01-06 07:12:07.386  8.526567  53.583710  1578294727386  211225940   \n",
       "2020-01-06 07:13:25.404  8.523702  53.586760  1578294805404  211225940   \n",
       "2020-01-06 07:14:29.034  8.521188  53.589185  1578294869034  211225940   \n",
       "2020-01-06 07:15:46.048  8.518100  53.592163  1578294946048  211225940   \n",
       "2020-01-06 07:16:46.273  8.515897  53.594550  1578295006273  211225940   \n",
       "2020-01-06 07:17:54.503  8.513530  53.597382  1578295074503  211225940   \n",
       "2020-01-06 07:18:54.478  8.511022  53.599765  1578295134478  211225940   \n",
       "\n",
       "                               sog        cog  heading  type  \\\n",
       "time                                                           \n",
       "2020-01-06 06:50:27.049   7.100000  262.10000      268     3   \n",
       "2020-01-06 06:51:39.758   7.600000  328.00000      326     3   \n",
       "2020-01-06 06:53:06.262   8.200000  327.50000      325     1   \n",
       "2020-01-06 06:54:17.028   9.400001  329.50000      326     1   \n",
       "2020-01-06 06:55:26.770   9.600000  330.30002      328     1   \n",
       "2020-01-06 06:56:46.360  10.100000  332.30002      328     1   \n",
       "2020-01-06 07:01:06.684   9.500000  330.80002      329     1   \n",
       "2020-01-06 07:03:51.956   9.400001  324.20000      325     3   \n",
       "2020-01-06 07:07:12.226   9.100000  329.00000      327     3   \n",
       "2020-01-06 07:08:14.848   9.400001  330.00000      328     1   \n",
       "2020-01-06 07:09:26.225   9.400001  331.40000      329     1   \n",
       "2020-01-06 07:11:06.055   9.600000  330.40000      326     1   \n",
       "2020-01-06 07:12:07.386   9.400001  331.80002      327     1   \n",
       "2020-01-06 07:13:25.404   9.700000  330.60000      326     1   \n",
       "2020-01-06 07:14:29.034   9.600000  326.40000      322     3   \n",
       "2020-01-06 07:15:46.048   9.700000  329.50000      326     3   \n",
       "2020-01-06 07:16:46.273   9.900001  331.70000      329     1   \n",
       "2020-01-06 07:17:54.503  10.100000  334.40000      328     1   \n",
       "2020-01-06 07:18:54.478  10.200000  326.40000      320     3   \n",
       "\n",
       "                                         geometry     speed  direction  \n",
       "time                                                                    \n",
       "2020-01-06 06:50:27.049  POINT (8.57486 53.53576)  3.541386 -46.812669  \n",
       "2020-01-06 06:51:39.758  POINT (8.57203 53.53735)  3.541386 -46.812669  \n",
       "2020-01-06 06:53:06.262  POINT (8.56912 53.54005)  4.128324 -32.593602  \n",
       "2020-01-06 06:54:17.028  POINT (8.56652 53.54250)  4.564892 -32.362267  \n",
       "2020-01-06 06:55:26.770  POINT (8.56386 53.54517)  4.950652 -30.667608  \n",
       "2020-01-06 06:56:46.360  POINT (8.56092 53.54841)  5.143233 -28.410523  \n",
       "2020-01-06 07:01:06.684  POINT (8.55143 53.55874)  5.035099 -28.682122  \n",
       "2020-01-06 07:03:51.956  POINT (8.54429 53.56491)  5.049510 -34.514046  \n",
       "2020-01-06 07:07:12.226  POINT (8.53704 53.57248)  4.839354 -29.729005  \n",
       "2020-01-06 07:08:14.848  POINT (8.53471 53.57481)  4.819824 -30.706146  \n",
       "2020-01-06 07:09:26.225  POINT (8.53221 53.57751)  4.810082 -28.795044  \n",
       "2020-01-06 07:11:06.055  POINT (8.52870 53.58141)  4.934007 -28.162169  \n",
       "2020-01-06 07:12:07.386  POINT (8.52657 53.58371)  4.763823 -28.968817  \n",
       "2020-01-06 07:13:25.404  POINT (8.52370 53.58676)  4.984546 -29.201582  \n",
       "2020-01-06 07:14:29.034  POINT (8.52119 53.58919)  4.983317 -31.659913  \n",
       "2020-01-06 07:15:46.048  POINT (8.51810 53.59216)  5.057355 -31.670564  \n",
       "2020-01-06 07:16:46.273  POINT (8.51590 53.59455)  5.032065 -28.775671  \n",
       "2020-01-06 07:17:54.503  POINT (8.51353 53.59738)  5.158467 -26.435421  \n",
       "2020-01-06 07:18:54.478  POINT (8.51102 53.59976)  5.218061 -32.047439  "
      ]
     },
     "execution_count": 9,
     "metadata": {},
     "output_type": "execute_result"
    }
   ],
   "source": [
    "collection.trajectories[1].df"
   ]
  },
  {
   "cell_type": "code",
   "execution_count": 7,
   "metadata": {},
   "outputs": [],
   "source": [
    "# Remove Trajectories that have too long gaps in consecutive AIS signals\n",
    "trips = mpd.ObservationGapSplitter(collection).split(gap=timedelta(minutes=5))\n",
    "# Remove all anchoring chips with a tolerance of 15 diameter (for example the Tugs laying in the \"Schlepperhafen\")\n",
    "trips = mpd.StopSplitter(trips).split(max_diameter=15, min_duration=timedelta(minutes=3), min_length=1500)\n",
    "# Outlier detecting and cleaning (Outlier (interquantile range - iqr) based cleaner.)\n",
    "# From moving pandas: \"Note: Setting alpha=3 is widely used.\"\n",
    "trips = mpd.OutlierCleaner(trips).clean({'speed': 3})"
   ]
  },
  {
   "cell_type": "code",
   "execution_count": 54,
   "metadata": {},
   "outputs": [],
   "source": [
    "# hand-made polygon of the area of interest which excludes the inner harbour and floodgates\n",
    "# (basically just the Weser)\n",
    "area_of_intereset = Polygon([(8.4867561,53.486203), (8.4867923,53.4861983), (8.5063362,53.4849813), (8.5257339,53.4990238), (8.5642719,53.5098972), \\\n",
    "(8.5717392,53.51939), (8.574357,53.5290337), (8.5766745,53.5363798), (8.576932,53.5390577), (8.5747862,53.5414678), \\\n",
    "(8.5707736,53.5437884), (8.5686493,53.5459176), (8.561182,53.5540766), (8.5582638,53.5545865), (8.5471916,53.566669), \\\n",
    "(8.5452175,53.5694215), (8.5317421,53.5859837), (8.5214424,53.6045765), (8.5198975,53.6112475), (8.501358,53.6405673), \\\n",
    "(8.4965515,53.6747479), (8.6160278,53.8760117), (8.0900574,53.9019109), (8.1202698,53.6373105), (8.3262634,53.6092107), \\\n",
    "(8.3468628,53.5937274), (8.4555244,53.5527509), (8.5322571,53.5392873), (8.5497665,53.5361247), (8.5537148,53.5312274), \\\n",
    "(8.5533714,53.5264316), (8.5487366,53.5233702), (8.5336304,53.5176549), (8.5180092,53.5108159), (8.5027313,53.5016276), \\\n",
    "(8.4867561,53.486203)])\n",
    "\n",
    "# TODO not working at all (returns 0 trajectories)\n",
    "# clipped_trips = trips.clip(area_of_intereset)"
   ]
  },
  {
   "cell_type": "code",
   "execution_count": 55,
   "metadata": {},
   "outputs": [],
   "source": [
    "#trips.trajectories[2].plot(column=\"speed\", linewidth=5, capstyle='round', legend=True)"
   ]
  },
  {
   "cell_type": "code",
   "execution_count": 8,
   "metadata": {},
   "outputs": [],
   "source": [
    "def resample_and_interpolate(trips, resample_interval=\"5S\", interpolate_method=\"linear\"):\n",
    "    out = pd.DataFrame()\n",
    "\n",
    "    for t in tqdm(trips.trajectories):\n",
    "        tmp = t.df.resample(resample_interval, origin=\"end\").mean()\n",
    "        tmp[\"mmsi\"] = tmp[\"mmsi\"].interpolate(method=\"bfill\")\n",
    "        tmp[\"type\"] = tmp[\"type\"].interpolate(method=\"bfill\")\n",
    "        tmp[\"sog\"] = tmp[\"sog\"].interpolate(method=interpolate_method)\n",
    "        tmp[\"cog\"] = tmp[\"cog\"].interpolate(method=interpolate_method)\n",
    "        tmp[\"lat\"] = tmp[\"lat\"].interpolate(method=interpolate_method)\n",
    "        tmp[\"lon\"] = tmp[\"lon\"].interpolate(method=interpolate_method)\n",
    "        tmp[\"heading\"] = tmp[\"heading\"].interpolate(method=interpolate_method)\n",
    "        tmp[\"speed\"] = tmp[\"speed\"].interpolate(method=interpolate_method)\n",
    "        tmp[\"direction\"] = tmp[\"direction\"].interpolate(method=interpolate_method)\n",
    "        tmp[\"traj_id\"] = str(tmp[\"mmsi\"][0]) + str(tmp.iloc[0].name)\n",
    "        tmp[\"timestamp\"] = tmp.index\n",
    "        tmp = tmp.reset_index(drop=True)\n",
    "        out = out.append(tmp, ignore_index=True)\n",
    "        \n",
    "    return out"
   ]
  },
  {
   "cell_type": "code",
   "execution_count": 57,
   "metadata": {},
   "outputs": [],
   "source": [
    "# 01: 886858\n",
    "# 04: 1770463\n",
    "# 07:"
   ]
  },
  {
   "cell_type": "code",
   "execution_count": 58,
   "metadata": {},
   "outputs": [
    {
     "data": {
      "text/plain": [
       "TrajectoryCollection with 9198 trajectories"
      ]
     },
     "execution_count": 58,
     "metadata": {},
     "output_type": "execute_result"
    }
   ],
   "source": [
    "trips"
   ]
  },
  {
   "cell_type": "code",
   "execution_count": 9,
   "metadata": {},
   "outputs": [
    {
     "name": "stderr",
     "output_type": "stream",
     "text": [
      "100%|██████████| 7825/7825 [14:51<00:00,  8.78it/s]\n"
     ]
    },
    {
     "data": {
      "text/html": [
       "<div>\n",
       "<style scoped>\n",
       "    .dataframe tbody tr th:only-of-type {\n",
       "        vertical-align: middle;\n",
       "    }\n",
       "\n",
       "    .dataframe tbody tr th {\n",
       "        vertical-align: top;\n",
       "    }\n",
       "\n",
       "    .dataframe thead th {\n",
       "        text-align: right;\n",
       "    }\n",
       "</style>\n",
       "<table border=\"1\" class=\"dataframe\">\n",
       "  <thead>\n",
       "    <tr style=\"text-align: right;\">\n",
       "      <th></th>\n",
       "      <th>lon</th>\n",
       "      <th>lat</th>\n",
       "      <th>timestamp</th>\n",
       "      <th>mmsi</th>\n",
       "      <th>sog</th>\n",
       "      <th>cog</th>\n",
       "      <th>heading</th>\n",
       "      <th>type</th>\n",
       "      <th>speed</th>\n",
       "      <th>direction</th>\n",
       "      <th>traj_id</th>\n",
       "    </tr>\n",
       "  </thead>\n",
       "  <tbody>\n",
       "    <tr>\n",
       "      <th>0</th>\n",
       "      <td>8.543378</td>\n",
       "      <td>53.565188</td>\n",
       "      <td>2020-10-09 16:27:56.972</td>\n",
       "      <td>205203190.0</td>\n",
       "      <td>5.100000</td>\n",
       "      <td>324.200000</td>\n",
       "      <td>511.0</td>\n",
       "      <td>3.0</td>\n",
       "      <td>2.798256</td>\n",
       "      <td>-31.117742</td>\n",
       "      <td>205203190.02020-10-09 16:27:56.972000</td>\n",
       "    </tr>\n",
       "    <tr>\n",
       "      <th>1</th>\n",
       "      <td>8.543356</td>\n",
       "      <td>53.565210</td>\n",
       "      <td>2020-10-09 16:27:57.972</td>\n",
       "      <td>205203190.0</td>\n",
       "      <td>5.111667</td>\n",
       "      <td>324.301667</td>\n",
       "      <td>511.0</td>\n",
       "      <td>3.0</td>\n",
       "      <td>2.798256</td>\n",
       "      <td>-31.117742</td>\n",
       "      <td>205203190.02020-10-09 16:27:56.972000</td>\n",
       "    </tr>\n",
       "    <tr>\n",
       "      <th>2</th>\n",
       "      <td>8.543334</td>\n",
       "      <td>53.565232</td>\n",
       "      <td>2020-10-09 16:27:58.972</td>\n",
       "      <td>205203190.0</td>\n",
       "      <td>5.123333</td>\n",
       "      <td>324.403334</td>\n",
       "      <td>511.0</td>\n",
       "      <td>3.0</td>\n",
       "      <td>2.798256</td>\n",
       "      <td>-31.117742</td>\n",
       "      <td>205203190.02020-10-09 16:27:56.972000</td>\n",
       "    </tr>\n",
       "    <tr>\n",
       "      <th>3</th>\n",
       "      <td>8.543312</td>\n",
       "      <td>53.565254</td>\n",
       "      <td>2020-10-09 16:27:59.972</td>\n",
       "      <td>205203190.0</td>\n",
       "      <td>5.135000</td>\n",
       "      <td>324.505001</td>\n",
       "      <td>511.0</td>\n",
       "      <td>3.0</td>\n",
       "      <td>2.798256</td>\n",
       "      <td>-31.117742</td>\n",
       "      <td>205203190.02020-10-09 16:27:56.972000</td>\n",
       "    </tr>\n",
       "    <tr>\n",
       "      <th>4</th>\n",
       "      <td>8.543290</td>\n",
       "      <td>53.565275</td>\n",
       "      <td>2020-10-09 16:28:00.972</td>\n",
       "      <td>205203190.0</td>\n",
       "      <td>5.146667</td>\n",
       "      <td>324.606668</td>\n",
       "      <td>511.0</td>\n",
       "      <td>3.0</td>\n",
       "      <td>2.798256</td>\n",
       "      <td>-31.117742</td>\n",
       "      <td>205203190.02020-10-09 16:27:56.972000</td>\n",
       "    </tr>\n",
       "    <tr>\n",
       "      <th>...</th>\n",
       "      <td>...</td>\n",
       "      <td>...</td>\n",
       "      <td>...</td>\n",
       "      <td>...</td>\n",
       "      <td>...</td>\n",
       "      <td>...</td>\n",
       "      <td>...</td>\n",
       "      <td>...</td>\n",
       "      <td>...</td>\n",
       "      <td>...</td>\n",
       "      <td>...</td>\n",
       "    </tr>\n",
       "    <tr>\n",
       "      <th>12384625</th>\n",
       "      <td>8.553637</td>\n",
       "      <td>53.558005</td>\n",
       "      <td>2020-10-12 07:41:49.607</td>\n",
       "      <td>982320197.0</td>\n",
       "      <td>5.669231</td>\n",
       "      <td>329.553846</td>\n",
       "      <td>511.0</td>\n",
       "      <td>18.0</td>\n",
       "      <td>4.769198</td>\n",
       "      <td>135.578173</td>\n",
       "      <td>982320197.02020-10-12 07:32:11.607000</td>\n",
       "    </tr>\n",
       "    <tr>\n",
       "      <th>12384626</th>\n",
       "      <td>8.553681</td>\n",
       "      <td>53.557971</td>\n",
       "      <td>2020-10-12 07:41:50.607</td>\n",
       "      <td>982320197.0</td>\n",
       "      <td>5.526923</td>\n",
       "      <td>332.165385</td>\n",
       "      <td>511.0</td>\n",
       "      <td>18.0</td>\n",
       "      <td>4.781540</td>\n",
       "      <td>137.470556</td>\n",
       "      <td>982320197.02020-10-12 07:32:11.607000</td>\n",
       "    </tr>\n",
       "    <tr>\n",
       "      <th>12384627</th>\n",
       "      <td>8.553724</td>\n",
       "      <td>53.557936</td>\n",
       "      <td>2020-10-12 07:41:51.607</td>\n",
       "      <td>982320197.0</td>\n",
       "      <td>5.384615</td>\n",
       "      <td>334.776923</td>\n",
       "      <td>511.0</td>\n",
       "      <td>18.0</td>\n",
       "      <td>4.793882</td>\n",
       "      <td>139.362939</td>\n",
       "      <td>982320197.02020-10-12 07:32:11.607000</td>\n",
       "    </tr>\n",
       "    <tr>\n",
       "      <th>12384628</th>\n",
       "      <td>8.553768</td>\n",
       "      <td>53.557901</td>\n",
       "      <td>2020-10-12 07:41:52.607</td>\n",
       "      <td>982320197.0</td>\n",
       "      <td>5.242308</td>\n",
       "      <td>337.388462</td>\n",
       "      <td>511.0</td>\n",
       "      <td>18.0</td>\n",
       "      <td>4.806224</td>\n",
       "      <td>141.255322</td>\n",
       "      <td>982320197.02020-10-12 07:32:11.607000</td>\n",
       "    </tr>\n",
       "    <tr>\n",
       "      <th>12384629</th>\n",
       "      <td>8.553812</td>\n",
       "      <td>53.557867</td>\n",
       "      <td>2020-10-12 07:41:53.607</td>\n",
       "      <td>982320197.0</td>\n",
       "      <td>5.100000</td>\n",
       "      <td>340.000000</td>\n",
       "      <td>511.0</td>\n",
       "      <td>18.0</td>\n",
       "      <td>4.818566</td>\n",
       "      <td>143.147705</td>\n",
       "      <td>982320197.02020-10-12 07:32:11.607000</td>\n",
       "    </tr>\n",
       "  </tbody>\n",
       "</table>\n",
       "<p>12384630 rows × 11 columns</p>\n",
       "</div>"
      ],
      "text/plain": [
       "               lon        lat               timestamp         mmsi       sog  \\\n",
       "0         8.543378  53.565188 2020-10-09 16:27:56.972  205203190.0  5.100000   \n",
       "1         8.543356  53.565210 2020-10-09 16:27:57.972  205203190.0  5.111667   \n",
       "2         8.543334  53.565232 2020-10-09 16:27:58.972  205203190.0  5.123333   \n",
       "3         8.543312  53.565254 2020-10-09 16:27:59.972  205203190.0  5.135000   \n",
       "4         8.543290  53.565275 2020-10-09 16:28:00.972  205203190.0  5.146667   \n",
       "...            ...        ...                     ...          ...       ...   \n",
       "12384625  8.553637  53.558005 2020-10-12 07:41:49.607  982320197.0  5.669231   \n",
       "12384626  8.553681  53.557971 2020-10-12 07:41:50.607  982320197.0  5.526923   \n",
       "12384627  8.553724  53.557936 2020-10-12 07:41:51.607  982320197.0  5.384615   \n",
       "12384628  8.553768  53.557901 2020-10-12 07:41:52.607  982320197.0  5.242308   \n",
       "12384629  8.553812  53.557867 2020-10-12 07:41:53.607  982320197.0  5.100000   \n",
       "\n",
       "                 cog  heading  type     speed   direction  \\\n",
       "0         324.200000    511.0   3.0  2.798256  -31.117742   \n",
       "1         324.301667    511.0   3.0  2.798256  -31.117742   \n",
       "2         324.403334    511.0   3.0  2.798256  -31.117742   \n",
       "3         324.505001    511.0   3.0  2.798256  -31.117742   \n",
       "4         324.606668    511.0   3.0  2.798256  -31.117742   \n",
       "...              ...      ...   ...       ...         ...   \n",
       "12384625  329.553846    511.0  18.0  4.769198  135.578173   \n",
       "12384626  332.165385    511.0  18.0  4.781540  137.470556   \n",
       "12384627  334.776923    511.0  18.0  4.793882  139.362939   \n",
       "12384628  337.388462    511.0  18.0  4.806224  141.255322   \n",
       "12384629  340.000000    511.0  18.0  4.818566  143.147705   \n",
       "\n",
       "                                        traj_id  \n",
       "0         205203190.02020-10-09 16:27:56.972000  \n",
       "1         205203190.02020-10-09 16:27:56.972000  \n",
       "2         205203190.02020-10-09 16:27:56.972000  \n",
       "3         205203190.02020-10-09 16:27:56.972000  \n",
       "4         205203190.02020-10-09 16:27:56.972000  \n",
       "...                                         ...  \n",
       "12384625  982320197.02020-10-12 07:32:11.607000  \n",
       "12384626  982320197.02020-10-12 07:32:11.607000  \n",
       "12384627  982320197.02020-10-12 07:32:11.607000  \n",
       "12384628  982320197.02020-10-12 07:32:11.607000  \n",
       "12384629  982320197.02020-10-12 07:32:11.607000  \n",
       "\n",
       "[12384630 rows x 11 columns]"
      ]
     },
     "execution_count": 9,
     "metadata": {},
     "output_type": "execute_result"
    }
   ],
   "source": [
    "linear_out = resample_and_interpolate(trips, resample_interval='10S', interpolate_method='linear')\n",
    "linear_out"
   ]
  },
  {
   "cell_type": "code",
   "execution_count": 10,
   "metadata": {},
   "outputs": [],
   "source": [
    "linear_out.to_csv(\"../../data/processed/aishub_linear_20_21.csv\", index=False)"
   ]
  }
 ],
 "metadata": {
  "interpreter": {
   "hash": "ef341f44ad7469960b5c8615cb16d4926e0fca1274f49f1184c722b3a4cd4099"
  },
  "kernelspec": {
   "display_name": "Python 3.9.7 64-bit ('env': venv)",
   "language": "python",
   "name": "python3"
  },
  "language_info": {
   "codemirror_mode": {
    "name": "ipython",
    "version": 3
   },
   "file_extension": ".py",
   "mimetype": "text/x-python",
   "name": "python",
   "nbconvert_exporter": "python",
   "pygments_lexer": "ipython3",
   "version": "3.9.7"
  },
  "orig_nbformat": 4
 },
 "nbformat": 4,
 "nbformat_minor": 2
}
